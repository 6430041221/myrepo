{
  "nbformat": 4,
  "nbformat_minor": 0,
  "metadata": {
    "colab": {
      "provenance": [],
      "authorship_tag": "ABX9TyNnqLgxpNjdbwKGUTlrPN1p",
      "include_colab_link": true
    },
    "kernelspec": {
      "name": "python3",
      "display_name": "Python 3"
    },
    "language_info": {
      "name": "python"
    }
  },
  "cells": [
    {
      "cell_type": "markdown",
      "metadata": {
        "id": "view-in-github",
        "colab_type": "text"
      },
      "source": [
        "<a href=\"https://colab.research.google.com/github/6430041221/myrepo/blob/main/DataScienceEcosystem.ipynb\" target=\"_parent\"><img src=\"https://colab.research.google.com/assets/colab-badge.svg\" alt=\"Open In Colab\"/></a>"
      ]
    },
    {
      "cell_type": "markdown",
      "source": [
        "#Data Science Tools and Ecosystem"
      ],
      "metadata": {
        "id": "cgXcPCrma78I"
      }
    },
    {
      "cell_type": "markdown",
      "source": [
        "# In this notebook, Data Science Tools and Ecosystem are summarized."
      ],
      "metadata": {
        "id": "ifFsJOM5befl"
      }
    },
    {
      "cell_type": "markdown",
      "source": [
        "# Some of the popular languages that Data Scientists use are:\n",
        " SQL , R ,Python."
      ],
      "metadata": {
        "id": "fwzfNzmgcV0n"
      }
    },
    {
      "cell_type": "markdown",
      "source": [],
      "metadata": {
        "id": "fCSu_YLgcrAy"
      }
    },
    {
      "cell_type": "markdown",
      "source": [
        "# Some of the commonly used libraries used by Data Scientists include:\n",
        "MatPlotlib , Seaborn , Pandas"
      ],
      "metadata": {
        "id": "LIgh30k4c6rj"
      }
    },
    {
      "cell_type": "markdown",
      "source": [
        "| Data Science Tools   |\n",
        "|----------------------|\n",
        "| Jupyter Notebook     |\n",
        "| RStudio              |\n",
        "| Apache Zeppelin      |\n"
      ],
      "metadata": {
        "id": "2AdFNFIzd_2h"
      }
    },
    {
      "cell_type": "markdown",
      "source": [
        "# Below are a few examples of evaluating arithmetic expressions in Python"
      ],
      "metadata": {
        "id": "s50VIyocekDp"
      }
    },
    {
      "cell_type": "code",
      "source": [
        "# This a simple arithmetic expression to mutiply then add integers\n",
        "(3*4)+5"
      ],
      "metadata": {
        "colab": {
          "base_uri": "https://localhost:8080/"
        },
        "id": "3I_2GlsCe4mH",
        "outputId": "37401405-c36e-4619-f293-e94b128abcce"
      },
      "execution_count": 4,
      "outputs": [
        {
          "output_type": "execute_result",
          "data": {
            "text/plain": [
              "17"
            ]
          },
          "metadata": {},
          "execution_count": 4
        }
      ]
    },
    {
      "cell_type": "code",
      "source": [
        "# This will convert 200 minutes to hours by diving by 60\n",
        "200/60"
      ],
      "metadata": {
        "colab": {
          "base_uri": "https://localhost:8080/"
        },
        "id": "GoJcljGDfUTX",
        "outputId": "aa61518f-c00b-4d47-8b8b-2d9e98aae9a4"
      },
      "execution_count": 5,
      "outputs": [
        {
          "output_type": "execute_result",
          "data": {
            "text/plain": [
              "3.3333333333333335"
            ]
          },
          "metadata": {},
          "execution_count": 5
        }
      ]
    },
    {
      "cell_type": "markdown",
      "source": [
        "**Objectives:**\n",
        "\n",
        "- List popular languages for Data Science\n",
        "- Understand development environments and tools for Data Science\n",
        "- Explore libraries and frameworks used in Data Science\n",
        "- Discuss data visualization techniques\n",
        "- Review data preprocessing methods\n"
      ],
      "metadata": {
        "id": "Xb6YP7Umf9MB"
      }
    },
    {
      "cell_type": "markdown",
      "source": [
        "## Author\n",
        "Jittawee Mayurawanpong"
      ],
      "metadata": {
        "id": "q06srO89glM3"
      }
    }
  ]
}